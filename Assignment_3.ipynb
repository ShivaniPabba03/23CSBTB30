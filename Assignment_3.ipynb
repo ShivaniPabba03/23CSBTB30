{
  "nbformat": 4,
  "nbformat_minor": 0,
  "metadata": {
    "colab": {
      "provenance": []
    },
    "kernelspec": {
      "name": "python3",
      "display_name": "Python 3"
    },
    "language_info": {
      "name": "python"
    }
  },
  "cells": [
    {
      "cell_type": "markdown",
      "source": [
        "Part-1"
      ],
      "metadata": {
        "id": "CmhCNweW5cGr"
      }
    },
    {
      "cell_type": "code",
      "source": [
        "from collections import namedtuple,Counter,defaultdict\n",
        "import random\n",
        "import math\n",
        "import functools\n",
        "cache = functools.lru_cache(10**6)"
      ],
      "metadata": {
        "id": "ZJ0OKrlb5iWv"
      },
      "execution_count": 1,
      "outputs": []
    },
    {
      "cell_type": "code",
      "source": [
        "class Game:\n",
        "  def actions(self, state ):\n",
        "    '''Return a collection of the allowable moves from this state.'''\n",
        "    raise NotImplementedError\n",
        "    def result(self, state , move ):\n",
        "      '''Return the state that results from making a move from a state.'''\n",
        "      raise NotImplementedError\n",
        "      def is_terminal (self, state ):\n",
        "        '''return True i f this is a final state for the game.'''\n",
        "        return not self.actions(state)\n",
        "        def utility(self, state , player ):\n",
        "          '''Return the value of this final state to player.'''\n",
        "          raise NotImplementedError\n",
        "          def play_game(game , strategies: dict , verbose=False ):\n",
        "            '''Play a turn−taking game. ‘strategies ‘ is a {player name: function} dict,where function(state , game) is used to get the player ’s move.'''\n",
        "            state = game.initial\n",
        "            while not game.is_terminal (state ):\n",
        "              player = state. to_move\n",
        "              move = strategies [player ](game , state)\n",
        "              state = game.result(state , move)\n",
        "              if verbose:\n",
        "                print('Player', player , 'move:', move)\n",
        "                print(state)\n",
        "                return state"
      ],
      "metadata": {
        "id": "2A8ShHXi5mSM"
      },
      "execution_count": 2,
      "outputs": []
    },
    {
      "cell_type": "markdown",
      "source": [
        "Part-2"
      ],
      "metadata": {
        "id": "FVv3-2Yv5yQR"
      }
    },
    {
      "cell_type": "code",
      "source": [
        "#Part 2\n",
        "def minimax_search (game , state ):\n",
        "  '''Search game tree to determine best move; return (value , move) pair.'''\n",
        "  player = state. to_move\n",
        "  def max_value (state ):\n",
        "    if game. is_terminal (state ):\n",
        "      return game.utility(state , player), None\n",
        "      v, move = -infinity , None\n",
        "      for a in game.actions(state ):\n",
        "        v2 , _= min_value (game.result(state,a))\n",
        "        if v2 > v:\n",
        "          v, move = v2 , a\n",
        "          return v, move\n",
        "\n",
        "\n",
        "          def min_value (state , alpha , beta ):\n",
        "             if game. is_terminal (state ):\n",
        "              return game.utility(state , player), None\n",
        "              v, move = +infinity , None\n",
        "              for a in game.actions(state ):\n",
        "                v2 ,_= max_value (game.result(state , a), alpha , beta)\n",
        "                if v2 < v:\n",
        "                   v, move = v2 , a\n",
        "                   return v,move\n",
        "                   return max_value(state)\n",
        "                   infinity = math.inf\n",
        "                   def alphabeta_search (game , state ):\n",
        "                    '''Search game to determine best action ; use alpha−beta pruning.'''\n",
        "                    '''Search all the way to the leaves.'''\n",
        "                    player = state. to_move\n",
        "                    def max_value (state , alpha , beta ):\n",
        "                      if game. is_terminal (state ):\n",
        "                        return game.utility(state , player), None\n",
        "                        v, move = -infinity , None\n",
        "                        for a in game.actions(state ):\n",
        "                          v2 , _= min_value (game.result(state , a), alpha , beta)\n",
        "                          if v2 > v:\n",
        "                            v, move = v2 , a\n",
        "                            alpha = max(alpha , v)\n",
        "                            if v >= beta:\n",
        "                              return v, move\n",
        "                              return v, move\n",
        "                              def min_value (state , alpha , beta ):\n",
        "                                if game. is_terminal (state ):\n",
        "                                  return game.utility(state , player), None\n",
        "                                  v, move = +infinity , None\n",
        "                                  for a in game.actions(state):\n",
        "                                    v2, _= max_value (game.result(state , a), alpha , beta)\n",
        "                                    if v2 < v:\n",
        "                                      v, move = v2 , a\n",
        "                                      beta = min(beta , v)\n",
        "                                      if v <= alpha:\n",
        "                                        return v, move\n",
        "                                        return v, move\n",
        "                                        return max_value (state , -infinity , +infinity )\n"
      ],
      "metadata": {
        "id": "rz37sPup50jT"
      },
      "execution_count": 3,
      "outputs": []
    },
    {
      "cell_type": "markdown",
      "source": [
        "Part-3"
      ],
      "metadata": {
        "id": "B5gFgT1O6DFT"
      }
    },
    {
      "cell_type": "code",
      "source": [
        "#1"
      ],
      "metadata": {
        "id": "WaK1bSOR6FAP"
      },
      "execution_count": 4,
      "outputs": []
    },
    {
      "cell_type": "code",
      "source": [
        "class TicTacToe (Game ):\n",
        "  \"\"\"Play TicTacToe on an ‘height ‘ by ‘width‘ board, needing ‘k ‘ in a row to win.\n",
        "  ’X’ plays f irs t against ’O’ .\"\"\"\n",
        "  def init(self, height =3, width =3, k=3):\n",
        "    self.k = k # k in a row\n",
        "    self.squares = {(x, y) for x in range(width) for y in range(height)}\n",
        "    self.initial = Board(height=height , width=width , to_move ='X', utility =0)\n",
        "    def actions(self, board ):\n",
        "      \"\"\"Legal moves are any square not yet taken.\"\"\"\n",
        "      return self.squares - set(board)\n",
        "      def result(self, board , square ):\n",
        "        \"\"\"Place a marker for current player on square.\"\"\"\n",
        "        player = board.to_move\n",
        "        board = board.new({square: player}, to_move =('O' if player == 'X' else 'X'))\n",
        "        win = k in row (board , player , square , self.k)\n",
        "        board.utility = (0 if not win else +1 if player == 'X' else -1)\n",
        "        return board\n",
        "        def utility(self, board , player ):\n",
        "          \"\"\"Return the value to player ; 1 for win, −1 for loss , 0 otherwise .\"\"\"\n",
        "          return board.utility if player == 'X' else -board.utility\n",
        "          def is_terminal (self, board ):\n",
        "            \"\"\"A board is a terminal state i f i t is won or there are no empty squares .\"\"\"\n",
        "            return board.utility != 0 or len(self.squares) == len(board)\n",
        "            def display(self, board ): print(board)\n",
        "            def k_in_row (board , player , square , k):\n",
        "              \"\"\"True i f player has k pieces in a line through square.\"\"\"\n",
        "              def in_row (x, y, dx , dy):\n",
        "                return 0 if board[x, y] != player else 1 + in_row (x + dx , y + dy , dx , dy)\n",
        "                return any(in_row(*square , dx , dy) + in_row(*square , -dx , -dy)-1>=k\n",
        "                           for (dx , dy) in ((0, 1), (1, 0), (1, 1), (1, -1)))\n",
        "\n",
        "\n"
      ],
      "metadata": {
        "id": "ISPIo_AY6IrR"
      },
      "execution_count": 5,
      "outputs": []
    },
    {
      "cell_type": "code",
      "source": [
        "#2"
      ],
      "metadata": {
        "id": "HkNZHXTW6RnR"
      },
      "execution_count": 6,
      "outputs": []
    },
    {
      "cell_type": "code",
      "source": [
        "class Board( defaultdict ):\n",
        "\n",
        "  \"\"\"A board has the player to move, a cached ut il ity value ,\n",
        "  and a dict of {(x , y): player} entries , where player is ’X’ or ’O’ .\"\"\"\n",
        "  empty = '.'\n",
        "  off = '#'\n",
        "  def init(self, width =8, height =8, to_move =None , **kwds ):\n",
        "    self. dict .update(width=width , height=height , to_move = to_move , **kwds)\n",
        "    def new(self, changes: dict , **kwds) -> 'Board':\n",
        "      \"Given a dict of {(x, y): contents} changes , return a new Board with the changes.\"\n",
        "      board = Board(width=self.width , height=self.height , **kwds)\n",
        "      board.update(self)\n",
        "      board.update(changes)\n",
        "      return board\n",
        "      def missing (self, loc ):\n",
        "        x, y = loc\n",
        "        if 0 <= x < self.width and 0 <= y < self.height:\n",
        "          return self.empty\n",
        "        else:\n",
        "          return self.off\n",
        "          def hash (self):\n",
        "            return hash(tuple(sorted(self.items ()))) + hash(self. to_move )\n",
        "            def repr (self):\n",
        "              def row(y): return ' '.join(self[x, y] for x in range(self.width ))\n",
        "              return '\\n'.join(map(row , range(self.height ))) + '\\n'"
      ],
      "metadata": {
        "id": "u6S358LE6T2s"
      },
      "execution_count": 7,
      "outputs": []
    },
    {
      "cell_type": "code",
      "source": [
        "#3"
      ],
      "metadata": {
        "id": "R9TSF4ZT6ZoB"
      },
      "execution_count": 8,
      "outputs": []
    },
    {
      "cell_type": "code",
      "source": [
        "def random_player (game , state ):\n",
        "  return random.choice(list(game.actions(state )))\n",
        "def player( search_algorithm ):\n",
        "  \"\"\"A game player who uses the specified search algorithm\"\"\"\n",
        "  return lambda game , state: search_algorithm (game , state )[1]"
      ],
      "metadata": {
        "id": "OvQZGswD6cZD"
      },
      "execution_count": 9,
      "outputs": []
    },
    {
      "cell_type": "markdown",
      "source": [
        "Part-4\n"
      ],
      "metadata": {
        "id": "iJVroguO6n6v"
      }
    },
    {
      "cell_type": "code",
      "source": [
        "import random\n",
        "\n",
        "class TicTacToe:\n",
        "    def __init__(self):\n",
        "        self.initial = [[' ']*3 for _ in range(3)]\n",
        "        self.current_player = 'X'\n",
        "\n",
        "    def actions(self, state):\n",
        "        \"\"\"Return available actions (empty cells) in the current state.\"\"\"\n",
        "        return [(i, j) for i in range(3) for j in range(3) if state[i][j] == ' ']\n",
        "\n",
        "    def result(self, state, action):\n",
        "        \"\"\"Return the new state after making the action.\"\"\"\n",
        "        new_state = [row[:] for row in state]\n",
        "        new_state[action[0]][action[1]] = self.current_player\n",
        "        return new_state\n",
        "\n",
        "    def utility(self, state):\n",
        "        \"\"\"Return the utility of the state. 1 for X win, -1 for O win, 0 for draw.\"\"\"\n",
        "        for row in state:\n",
        "            if row[0] == row[1] == row[2] != ' ':\n",
        "                return 1 if row[0] == 'X' else -1\n",
        "        for col in range(3):\n",
        "            if state[0][col] == state[1][col] == state[2][col] != ' ':\n",
        "                return 1 if state[0][col] == 'X' else -1\n",
        "        if state[0][0] == state[1][1] == state[2][2] != ' ':\n",
        "            return 1 if state[0][0] == 'X' else -1\n",
        "        if state[0][2] == state[1][1] == state[2][0] != ' ':\n",
        "            return 1 if state[0][2] == 'X' else -1\n",
        "        return 0\n",
        "\n",
        "    def is_terminal(self, state):\n",
        "        \"\"\"Return True if the game is over (win/loss/draw).\"\"\"\n",
        "        return self.utility(state) != 0 or all(state[i][j] != ' ' for i in range(3) for j in range(3))\n",
        "\n",
        "    def play_game(self, players, verbose=False):\n",
        "        \"\"\"Play the game with the specified players. Return utility at the end.\"\"\"\n",
        "        state = self.initial\n",
        "        self.current_player = 'X'\n",
        "        while not self.is_terminal(state):\n",
        "            if verbose:\n",
        "                for row in state:\n",
        "                    print(' | '.join(row))\n",
        "                print()\n",
        "            player = players[self.current_player]\n",
        "            action = player(state)\n",
        "            state = self.result(state, action)\n",
        "            self.current_player = 'O' if self.current_player == 'X' else 'X'\n",
        "        if verbose:\n",
        "            for row in state:\n",
        "                print(' | '.join(row))\n",
        "        return self.utility(state)\n",
        "\n",
        "\n",
        "# Define players\n",
        "def random_player(state):\n",
        "    \"\"\"Random player chooses a random action.\"\"\"\n",
        "    return random.choice(TicTacToe().actions(state))\n",
        "\n",
        "def minimax_search(game, state):\n",
        "    \"\"\"Minimax search player.\"\"\"\n",
        "    def max_value(state):\n",
        "        if game.is_terminal(state):\n",
        "            return game.utility(state)\n",
        "        v = -float('inf')\n",
        "        for action in game.actions(state):\n",
        "            v = max(v, min_value(game.result(state, action)))\n",
        "        return v\n",
        "\n",
        "    def min_value(state):\n",
        "        if game.is_terminal(state):\n",
        "            return game.utility(state)\n",
        "        v = float('inf')\n",
        "        for action in game.actions(state):\n",
        "            v = min(v, max_value(game.result(state, action)))\n",
        "        return v\n",
        "\n",
        "    actions = game.actions(state)\n",
        "    best_action = max(actions, key=lambda a: min_value(game.result(state, a)))\n",
        "    return best_action\n",
        "\n",
        "\n",
        "def alphabeta_search(game, state):\n",
        "    \"\"\"Alpha-beta pruning search player.\"\"\"\n",
        "    def max_value(state, alpha, beta):\n",
        "        if game.is_terminal(state):\n",
        "            return game.utility(state)\n",
        "        v = -float('inf')\n",
        "        for action in game.actions(state):\n",
        "            v = max(v, min_value(game.result(state, action), alpha, beta))\n",
        "            if v >= beta:\n",
        "                return v\n",
        "            alpha = max(alpha, v)\n",
        "        return v\n",
        "\n",
        "    def min_value(state, alpha, beta):\n",
        "        if game.is_terminal(state):\n",
        "            return game.utility(state)\n",
        "        v = float('inf')\n",
        "        for action in game.actions(state):\n",
        "            v = min(v, max_value(game.result(state, action), alpha, beta))\n",
        "            if v <= alpha:\n",
        "                return v\n",
        "            beta = min(beta, v)\n",
        "        return v\n",
        "\n",
        "    actions = game.actions(state)\n",
        "    best_action = max(actions, key=lambda a: min_value(game.result(state, a), -float('inf'), float('inf')))\n",
        "    return best_action\n",
        "\n",
        "\n",
        "# Helper player function to wrap the search algorithms\n",
        "def player(strategy):\n",
        "    \"\"\"Wraps the strategy function to return a callable player.\"\"\"\n",
        "    def player_func(state):\n",
        "        return strategy(TicTacToe(), state)\n",
        "    return player_func\n",
        "\n",
        "\n",
        "# Running the games with specified strategies\n",
        "game = TicTacToe()\n",
        "\n",
        "# Case 1: Random Player X, Alpha-Beta Search Player O\n",
        "print(\"Game 1: Random X vs AlphaBeta O\")\n",
        "result1 = game.play_game({'X': random_player, 'O': player(alphabeta_search)}, verbose=True)\n",
        "print(f\"Result of Random X vs AlphaBeta O: {result1}\")\n",
        "\n",
        "# Case 2: Alpha-Beta Search Player X, Minimax Search Player O\n",
        "print(\"\\nGame 2: AlphaBeta X vs Minimax O\")\n",
        "result2 = game.play_game({'X': player(alphabeta_search), 'O': player(minimax_search)}, verbose=True)\n",
        "print(f\"Result of AlphaBeta X vs Minimax O: {result2}\")\n"
      ],
      "metadata": {
        "colab": {
          "base_uri": "https://localhost:8080/"
        },
        "id": "Bw29vt9A6qGo",
        "outputId": "f5d48c89-b17a-4afc-926a-f69268314b47"
      },
      "execution_count": 10,
      "outputs": [
        {
          "output_type": "stream",
          "name": "stdout",
          "text": [
            "Game 1: Random X vs AlphaBeta O\n",
            "  |   |  \n",
            "  |   |  \n",
            "  |   |  \n",
            "\n",
            "X |   |  \n",
            "  |   |  \n",
            "  |   |  \n",
            "\n",
            "X | O |  \n",
            "  |   |  \n",
            "  |   |  \n",
            "\n",
            "X | O |  \n",
            "  | X |  \n",
            "  |   |  \n",
            "\n",
            "X | O | O\n",
            "  | X |  \n",
            "  |   |  \n",
            "\n",
            "X | O | O\n",
            "  | X |  \n",
            "X |   |  \n",
            "\n",
            "X | O | O\n",
            "O | X |  \n",
            "X |   |  \n",
            "\n",
            "X | O | O\n",
            "O | X |  \n",
            "X | X |  \n",
            "\n",
            "X | O | O\n",
            "O | X | O\n",
            "X | X |  \n",
            "\n",
            "X | O | O\n",
            "O | X | O\n",
            "X | X | X\n",
            "Result of Random X vs AlphaBeta O: 1\n",
            "\n",
            "Game 2: AlphaBeta X vs Minimax O\n",
            "  |   |  \n",
            "  |   |  \n",
            "  |   |  \n",
            "\n",
            "X |   |  \n",
            "  |   |  \n",
            "  |   |  \n",
            "\n",
            "X | O |  \n",
            "  |   |  \n",
            "  |   |  \n",
            "\n",
            "X | O | X\n",
            "  |   |  \n",
            "  |   |  \n",
            "\n",
            "X | O | X\n",
            "O |   |  \n",
            "  |   |  \n",
            "\n",
            "X | O | X\n",
            "O | X |  \n",
            "  |   |  \n",
            "\n",
            "X | O | X\n",
            "O | X | O\n",
            "  |   |  \n",
            "\n",
            "X | O | X\n",
            "O | X | O\n",
            "X |   |  \n",
            "Result of AlphaBeta X vs Minimax O: 1\n"
          ]
        }
      ]
    }
  ]
}