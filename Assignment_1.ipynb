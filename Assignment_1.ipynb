{
  "nbformat": 4,
  "nbformat_minor": 0,
  "metadata": {
    "colab": {
      "provenance": []
    },
    "kernelspec": {
      "name": "python3",
      "display_name": "Python 3"
    },
    "language_info": {
      "name": "python"
    }
  },
  "cells": [
    {
      "cell_type": "code",
      "execution_count": 1,
      "metadata": {
        "id": "7cY8GrcSzEAf"
      },
      "outputs": [],
      "source": [
        "#1.list"
      ]
    },
    {
      "cell_type": "code",
      "source": [
        "import numpy as np\n",
        "import pandas as pd\n",
        "list1 = [10,20,30,40,50,60,70,80,90,100]\n",
        "fruits=[\"Apple\",\"Banana\",\"Cherry\",\"Orange\"]\n",
        "print(\"list:\", list1)\n",
        "print(\"Fruits:\" , fruits)"
      ],
      "metadata": {
        "colab": {
          "base_uri": "https://localhost:8080/"
        },
        "id": "NyfiyCkzzuRY",
        "outputId": "9e52267e-93f3-4f3c-ea8d-4833447bec29"
      },
      "execution_count": 2,
      "outputs": [
        {
          "output_type": "stream",
          "name": "stdout",
          "text": [
            "list: [10, 20, 30, 40, 50, 60, 70, 80, 90, 100]\n",
            "Fruits: ['Apple', 'Banana', 'Cherry', 'Orange']\n"
          ]
        }
      ]
    },
    {
      "cell_type": "code",
      "source": [
        "#2.Arrays\n",
        "list2 = [1,2,3,5,7,9,23,45,78]\n",
        "list3 = [4,5,7,9,3,56,89]\n",
        "array1 = np.array(list2)\n",
        "array2 = np.array(list3)\n",
        "print(\"Array:\" , array1)\n",
        "print(\"Array:\" , array2)\n"
      ],
      "metadata": {
        "colab": {
          "base_uri": "https://localhost:8080/"
        },
        "id": "5ycUWPhizwjb",
        "outputId": "9ac9dae0-450a-4f4d-8240-8bc1cfcfef1b"
      },
      "execution_count": 3,
      "outputs": [
        {
          "output_type": "stream",
          "name": "stdout",
          "text": [
            "Array: [ 1  2  3  5  7  9 23 45 78]\n",
            "Array: [ 4  5  7  9  3 56 89]\n"
          ]
        }
      ]
    },
    {
      "cell_type": "code",
      "source": [
        "#3. Identify their type using type()\n",
        "\n",
        "print(\"Type of list1:\" , type(list))\n",
        "print(\"Type of fruits:\" , type(fruits))\n",
        "print(\"Type of array1:\", type(array1))\n",
        "print(\"Type of array2:\",type(array2))"
      ],
      "metadata": {
        "colab": {
          "base_uri": "https://localhost:8080/"
        },
        "id": "kQXS44SMz2ov",
        "outputId": "ce6e7b27-9276-4a34-d030-1bb8684bb82a"
      },
      "execution_count": 4,
      "outputs": [
        {
          "output_type": "stream",
          "name": "stdout",
          "text": [
            "Type of list1: <class 'type'>\n",
            "Type of fruits: <class 'list'>\n",
            "Type of array1: <class 'numpy.ndarray'>\n",
            "Type of array2: <class 'numpy.ndarray'>\n"
          ]
        }
      ]
    },
    {
      "cell_type": "code",
      "source": [
        "#4.Perform mathematical operations on these datasets created - multiplication, division,poweroff Performing mathematical operations\n",
        "\n",
        "import numpy as np\n",
        "\n",
        "# Example arrays\n",
        "array3 = np.array([11, 12, 13, 14])\n",
        "array4 = np.array([55, 66, 77, 88])\n",
        "\n",
        "# Perform mathematical operations\n",
        "multiplication = array3 * array4\n",
        "division = np.divide(array3, array4)  # Handles division by zero safely\n",
        "poweroff = array3 ** 4\n",
        "\n",
        "# Print results\n",
        "print(\"Multiplication:\\n\", multiplication)\n",
        "print(\"Division:\\n\", division)\n",
        "print(\"Power of 2:\\n\", poweroff)\n"
      ],
      "metadata": {
        "colab": {
          "base_uri": "https://localhost:8080/"
        },
        "id": "60lpu8h4z9Vf",
        "outputId": "e2d8daa5-4d01-434e-b6cf-d8bd2c58d8cd"
      },
      "execution_count": 5,
      "outputs": [
        {
          "output_type": "stream",
          "name": "stdout",
          "text": [
            "Multiplication:\n",
            " [ 605  792 1001 1232]\n",
            "Division:\n",
            " [0.2        0.18181818 0.16883117 0.15909091]\n",
            "Power of 2:\n",
            " [14641 20736 28561 38416]\n"
          ]
        }
      ]
    },
    {
      "cell_type": "code",
      "source": [
        "import numpy as np\n",
        "\n",
        "# Example arrays\n",
        "array1 = np.array([1, 2, 3, 4])\n",
        "array2 = np.array([5, 6, 7, 8])\n",
        "\n",
        "# Pad array2 with zeros to match the shape of array1\n",
        "array2_padded = np.pad(array2, (0, array1.shape[0] - array2.shape[0]), 'constant', constant_values=0)\n",
        "\n",
        "# Perform addition\n",
        "add_result = array1 + array2_padded\n",
        "\n",
        "# Print results\n",
        "output = f\"Addition of Two:\\n{array1} + {array2_padded} = {add_result}\"\n",
        "print(output)"
      ],
      "metadata": {
        "colab": {
          "base_uri": "https://localhost:8080/"
        },
        "id": "yJz7WI930R97",
        "outputId": "d6c567d3-97a4-46ab-b53e-609e83cd1554"
      },
      "execution_count": 8,
      "outputs": [
        {
          "output_type": "stream",
          "name": "stdout",
          "text": [
            "Addition of Two:\n",
            "[1 2 3 4] + [5 6 7 8] = [ 6  8 10 12]\n"
          ]
        }
      ]
    },
    {
      "cell_type": "code",
      "source": [
        "#6. implement np.sin(), log(), log2(), np.exp())\n",
        "array3 = np.array([1, 2, 3, 4])\n",
        "sin_result = np.sin(array3)\n",
        "log_result = np.log(array3)\n",
        "log2_result = np.log2(array3)\n",
        "exp_result = np.exp(array3)\n",
        "print(f\"Sin Result: {sin_result}\")\n",
        "print(f\"Log Result: {log_result}\")\n",
        "print(f\"Log2 Result: {log2_result}\")\n",
        "print(f\"Exp Result: {exp_result}\")"
      ],
      "metadata": {
        "colab": {
          "base_uri": "https://localhost:8080/"
        },
        "id": "Es4f-31O0iSM",
        "outputId": "6ca73b63-6e24-433c-b0c5-11e94e2ef087"
      },
      "execution_count": 9,
      "outputs": [
        {
          "output_type": "stream",
          "name": "stdout",
          "text": [
            "Sin Result: [ 0.84147098  0.90929743  0.14112001 -0.7568025 ]\n",
            "Log Result: [0.         0.69314718 1.09861229 1.38629436]\n",
            "Log2 Result: [0.        1.        1.5849625 2.       ]\n",
            "Exp Result: [ 2.71828183  7.3890561  20.08553692 54.59815003]\n"
          ]
        }
      ]
    }
  ]
}